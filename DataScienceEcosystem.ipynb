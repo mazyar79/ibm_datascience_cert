{
 "cells": [
  {
   "cell_type": "markdown",
   "id": "409145bc",
   "metadata": {},
   "source": [
    "# Data Science Tools and Ecosystem "
   ]
  },
  {
   "cell_type": "code",
   "execution_count": null,
   "id": "d49a87c7",
   "metadata": {},
   "outputs": [],
   "source": [
    "In this notebook, Data Science Tools and Ecosystem are summarized. "
   ]
  },
  {
   "cell_type": "markdown",
   "id": "15ba8fac",
   "metadata": {},
   "source": [
    "<b>Objectives:</b>\n",
    "- List popular languages for Data Science\n",
    "- List commonly used libraries in Data Science\n",
    "- List commonly used tools in Data Science\n",
    "- Provide examples of evaluating arithmetic expressions in Python"
   ]
  },
  {
   "cell_type": "markdown",
   "id": "f80ea380",
   "metadata": {},
   "source": [
    "Some of the popular languages that Data Scientists use are: <br>\n",
    "> 1. Python <br>\n",
    "2. R <br>\n",
    "3. SQL <br>"
   ]
  },
  {
   "cell_type": "markdown",
   "id": "ea6b6c7d",
   "metadata": {},
   "source": [
    "  Some of the commonly used libraries used by Data Scientists include: <br>\n",
    "  > 1. NumPy <br>\n",
    "  2. Pandas <br>\n",
    "  3. Matplotlib"
   ]
  },
  {
   "cell_type": "markdown",
   "id": "6d4a522d",
   "metadata": {},
   "source": [
    "|Data Science Tools|\n",
    "|---------|\n",
    "|Jupyter Notebooks|\n",
    "|R Studio|\n",
    "|Pytorch|"
   ]
  },
  {
   "cell_type": "markdown",
   "id": "c4f79704",
   "metadata": {},
   "source": [
    "### Below are a few examples of evaluating arithmetic expressions in Python"
   ]
  },
  {
   "cell_type": "code",
   "execution_count": 2,
   "id": "7f53dd3a",
   "metadata": {},
   "outputs": [
    {
     "data": {
      "text/plain": [
       "17"
      ]
     },
     "execution_count": 2,
     "metadata": {},
     "output_type": "execute_result"
    }
   ],
   "source": [
    "#  This a simple arithmetic expression to mutiply then add integers \n",
    "(3*4)+5"
   ]
  },
  {
   "cell_type": "code",
   "execution_count": 3,
   "id": "64a9897e",
   "metadata": {},
   "outputs": [
    {
     "data": {
      "text/plain": [
       "3.3333333333333335"
      ]
     },
     "execution_count": 3,
     "metadata": {},
     "output_type": "execute_result"
    }
   ],
   "source": [
    "# This will convert 200 minutes to hours by dividing by 60\n",
    "200 / 60"
   ]
  },
  {
   "cell_type": "markdown",
   "id": "8d5ccff4",
   "metadata": {},
   "source": [
    "## Author\n",
    "Michael Shahbaz"
   ]
  }
 ],
 "metadata": {
  "kernelspec": {
   "display_name": "Python 3 (ipykernel)",
   "language": "python",
   "name": "python3"
  },
  "language_info": {
   "codemirror_mode": {
    "name": "ipython",
    "version": 3
   },
   "file_extension": ".py",
   "mimetype": "text/x-python",
   "name": "python",
   "nbconvert_exporter": "python",
   "pygments_lexer": "ipython3",
   "version": "3.11.7"
  }
 },
 "nbformat": 4,
 "nbformat_minor": 5
}
